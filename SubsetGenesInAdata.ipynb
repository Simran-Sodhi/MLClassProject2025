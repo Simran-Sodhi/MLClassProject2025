{
 "cells": [
  {
   "cell_type": "code",
   "execution_count": 3,
   "id": "fda19d94-e6e8-4088-9611-ec6aa4e235dc",
   "metadata": {},
   "outputs": [],
   "source": [
    "import scanpy as sc\n",
    "import pandas as pd\n",
    "import numpy as np"
   ]
  },
  {
   "cell_type": "code",
   "execution_count": 4,
   "id": "2d9126a0-b4ea-43ef-8008-9ee42e3aaa81",
   "metadata": {},
   "outputs": [],
   "source": [
    "# Define paths\n",
    "input_adata_file = \"Datasets/tpm_unstranded.h5ad\"\n",
    "input_genes_file = \"Data/final_gene_list_non_correlated.txt\""
   ]
  },
  {
   "cell_type": "code",
   "execution_count": 27,
   "id": "0db5d633-4300-427a-a53c-bd4efc03b567",
   "metadata": {},
   "outputs": [
    {
     "name": "stdout",
     "output_type": "stream",
     "text": [
      "AnnData object with n_obs × n_vars = 2008 × 60660\n",
      "    obs: 'sample_type'\n",
      "    var: 'gene_name', 'gene_type'\n"
     ]
    },
    {
     "name": "stderr",
     "output_type": "stream",
     "text": [
      "/opt/anaconda3/lib/python3.12/site-packages/anndata/_core/anndata.py:1756: UserWarning: Observation names are not unique. To make them unique, call `.obs_names_make_unique`.\n",
      "  utils.warn_names_duplicates(\"obs\")\n"
     ]
    }
   ],
   "source": [
    "# Load OG adata\n",
    "adata = sc.read_h5ad(input_adata_file)\n",
    "print(adata)"
   ]
  },
  {
   "cell_type": "code",
   "execution_count": 28,
   "id": "85bde2b7-5acf-4d04-9e9f-9a0fe60efc4c",
   "metadata": {},
   "outputs": [],
   "source": [
    "# Output file path to store subset adata\n",
    "prefix = input_adata_file.split(\".h5ad\")[0]\n",
    "output_file = prefix + \"_subset.h5ad\"\n",
    "# output_file = \"tpm_unstranded_subset.h5ad\""
   ]
  },
  {
   "cell_type": "code",
   "execution_count": 29,
   "id": "840836e0-a3d5-40da-999e-390e5a32f0df",
   "metadata": {},
   "outputs": [],
   "source": [
    "# Load the gene subset file\n",
    "with open(input_genes_file, \"r\") as f:\n",
    "    gene_subset = [line.strip() for line in f if line.strip()]"
   ]
  },
  {
   "cell_type": "code",
   "execution_count": 31,
   "id": "657bfc59-c51b-4387-91c4-3ad05e405937",
   "metadata": {},
   "outputs": [
    {
     "data": {
      "text/plain": [
       "9363"
      ]
     },
     "execution_count": 31,
     "metadata": {},
     "output_type": "execute_result"
    }
   ],
   "source": [
    "len(gene_subset)"
   ]
  },
  {
   "cell_type": "code",
   "execution_count": 32,
   "id": "f6127767-b720-4d3e-880d-badcab6e1d27",
   "metadata": {},
   "outputs": [],
   "source": [
    "# Get subset of data\n",
    "adata_subset = adata[:, adata.var_names.isin(gene_subset)].copy()"
   ]
  },
  {
   "cell_type": "code",
   "execution_count": 34,
   "id": "3dc4eb59-bf7d-453d-af4d-c5c8424f7f8f",
   "metadata": {},
   "outputs": [
    {
     "data": {
      "text/plain": [
       "AnnData object with n_obs × n_vars = 2008 × 9363\n",
       "    obs: 'sample_type'\n",
       "    var: 'gene_name', 'gene_type'"
      ]
     },
     "execution_count": 34,
     "metadata": {},
     "output_type": "execute_result"
    }
   ],
   "source": [
    "# Save it to an output file\n",
    "adata_subset.write(output_file)\n",
    "adata_subset"
   ]
  }
 ],
 "metadata": {
  "kernelspec": {
   "display_name": "Python 3 (ipykernel)",
   "language": "python",
   "name": "python3"
  },
  "language_info": {
   "codemirror_mode": {
    "name": "ipython",
    "version": 3
   },
   "file_extension": ".py",
   "mimetype": "text/x-python",
   "name": "python",
   "nbconvert_exporter": "python",
   "pygments_lexer": "ipython3",
   "version": "3.12.7"
  }
 },
 "nbformat": 4,
 "nbformat_minor": 5
}
